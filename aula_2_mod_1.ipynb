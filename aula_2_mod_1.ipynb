{
 "cells": [
  {
   "cell_type": "markdown",
   "metadata": {},
   "source": [
    "# Módulo 1 parte2"
   ]
  },
  {
   "cell_type": "markdown",
   "metadata": {},
   "source": [
    "## Control flow\n",
    "if, else, elif"
   ]
  },
  {
   "cell_type": "markdown",
   "metadata": {},
   "source": [
    "### Variáveis boleanas"
   ]
  },
  {
   "cell_type": "code",
   "execution_count": null,
   "metadata": {},
   "outputs": [],
   "source": [
    "verdade = True\n",
    "mentira = False"
   ]
  },
  {
   "cell_type": "markdown",
   "metadata": {},
   "source": [
    "Os valores das variáveis boleanas também podem ser expressões"
   ]
  },
  {
   "cell_type": "code",
   "execution_count": 1,
   "metadata": {},
   "outputs": [
    {
     "name": "stdout",
     "output_type": "stream",
     "text": [
      "True\n",
      "False\n",
      "True\n"
     ]
    }
   ],
   "source": [
    "bool_1 = 5 != 7\n",
    "bool_2 = 1 + 1 != 2\n",
    "bool_3 = 3 * 3 == 9\n",
    "\n",
    "print(bool_1)\n",
    "print(bool_2)\n",
    "print(bool_3)"
   ]
  },
  {
   "cell_type": "code",
   "execution_count": 2,
   "metadata": {},
   "outputs": [
    {
     "name": "stdout",
     "output_type": "stream",
     "text": [
      "Não está chovendo\n"
     ]
    }
   ],
   "source": [
    "if 2 == 4 - 2:\n",
    "    print(\"Não está chovendo\")"
   ]
  },
  {
   "cell_type": "code",
   "execution_count": 3,
   "metadata": {},
   "outputs": [],
   "source": [
    "if 2 != 4 - 2:\n",
    "    print(\"Não está chovendo\")"
   ]
  },
  {
   "cell_type": "code",
   "execution_count": 5,
   "metadata": {},
   "outputs": [
    {
     "name": "stdout",
     "output_type": "stream",
     "text": [
      "proibido beber\n"
     ]
    }
   ],
   "source": [
    "idade = 21\n",
    "\n",
    "if idade >= 18:\n",
    "    print(\"proibido beber\")"
   ]
  },
  {
   "cell_type": "markdown",
   "metadata": {},
   "source": [
    "### Operadores booleanos\n",
    "* and\n",
    "* or\n",
    "* not"
   ]
  },
  {
   "cell_type": "code",
   "execution_count": 12,
   "metadata": {},
   "outputs": [],
   "source": [
    "x = 1\n",
    "y = 2\n",
    "z = 10\n",
    "\n",
    "if x ==1 and y == 2 and z == 5:\n",
    "    print(\"Aceertoooou!!\")"
   ]
  },
  {
   "cell_type": "code",
   "execution_count": 15,
   "metadata": {},
   "outputs": [],
   "source": [
    "x = 2\n",
    "y = 3\n",
    "\n",
    "if x ==1 or y == 2:\n",
    "    print(\"Aceertoooou!!\")"
   ]
  },
  {
   "cell_type": "code",
   "execution_count": 18,
   "metadata": {},
   "outputs": [],
   "source": [
    "nota = 8\n",
    "\n",
    "if not nota >= 6 :\n",
    "    print(\"Sorry...tente outa vez\")"
   ]
  },
  {
   "cell_type": "markdown",
   "metadata": {},
   "source": [
    "## Else"
   ]
  },
  {
   "cell_type": "code",
   "execution_count": 20,
   "metadata": {},
   "outputs": [
    {
     "name": "stdout",
     "output_type": "stream",
     "text": [
      "sleep if you can\n"
     ]
    }
   ],
   "source": [
    "dia_util = False\n",
    "\n",
    "if dia_util:\n",
    "    print(\"acordar as 6h\")\n",
    "else:\n",
    "    print(\"sleep if you can\")"
   ]
  },
  {
   "cell_type": "markdown",
   "metadata": {},
   "source": [
    "### Else if = elif"
   ]
  },
  {
   "cell_type": "code",
   "execution_count": 24,
   "metadata": {},
   "outputs": [
    {
     "name": "stdout",
     "output_type": "stream",
     "text": [
      "estamos fechados\n"
     ]
    }
   ],
   "source": [
    "dia = \"domingo\"\n",
    "\n",
    "if dia == \"quarta\" or dia == \"sexta\":\n",
    "    print(\"arroz com frango\")\n",
    "elif dia == \"segunda\" or dia ==\"quinta\":\n",
    "    print(\"macarrão a bolonhesa\")\n",
    "elif dia == \"terça\":\n",
    "    print(\"especial surpresa\")\n",
    "else:\n",
    "    print(\"estamos fechados\")\n",
    "    "
   ]
  },
  {
   "cell_type": "markdown",
   "metadata": {},
   "source": [
    "## Loops"
   ]
  },
  {
   "cell_type": "markdown",
   "metadata": {},
   "source": [
    "### For Loops"
   ]
  },
  {
   "cell_type": "code",
   "execution_count": 27,
   "metadata": {},
   "outputs": [
    {
     "name": "stdout",
     "output_type": "stream",
     "text": [
      "farinha\n",
      "açúcar\n",
      "ovos\n",
      "castanhas\n",
      "chocolate\n"
     ]
    }
   ],
   "source": [
    "ingredientes = ('farinha', 'açúcar', 'ovos', 'castanhas', 'chocolate')\n",
    "\n",
    "for ingrediente in ingredientes:\n",
    "    print(ingrediente)"
   ]
  },
  {
   "cell_type": "code",
   "execution_count": 31,
   "metadata": {},
   "outputs": [
    {
     "name": "stdout",
     "output_type": "stream",
     "text": [
      "N\n",
      "a\n",
      "t\n",
      "a\n",
      "s\n",
      "h\n",
      "a\n"
     ]
    }
   ],
   "source": [
    "nome = \"Natasha\"\n",
    "\n",
    "for i in nome:\n",
    "    print(i)"
   ]
  },
  {
   "cell_type": "markdown",
   "metadata": {},
   "source": [
    "### Range\n",
    "https://docs.python.org/3/library/stdtypes.html#range"
   ]
  },
  {
   "cell_type": "code",
   "execution_count": 32,
   "metadata": {},
   "outputs": [
    {
     "name": "stdout",
     "output_type": "stream",
     "text": [
      "range(0, 6)\n"
     ]
    }
   ],
   "source": [
    "print(range(6))"
   ]
  },
  {
   "cell_type": "code",
   "execution_count": 33,
   "metadata": {},
   "outputs": [
    {
     "name": "stdout",
     "output_type": "stream",
     "text": [
      "Oi!\n",
      "Oi!\n",
      "Oi!\n",
      "Oi!\n",
      "Oi!\n",
      "Oi!\n"
     ]
    }
   ],
   "source": [
    "# 6 elementos: # 0, 1, 2, 3, 4, 5\n",
    "for n in range(6):\n",
    "    print(\"Oi!\")"
   ]
  },
  {
   "cell_type": "markdown",
   "metadata": {},
   "source": [
    "### While"
   ]
  },
  {
   "cell_type": "code",
   "execution_count": 34,
   "metadata": {},
   "outputs": [
    {
     "name": "stdout",
     "output_type": "stream",
     "text": [
      "0\n",
      "1\n",
      "2\n",
      "3\n"
     ]
    }
   ],
   "source": [
    "count = 0\n",
    "\n",
    "while count <=3 :\n",
    "    print(count)\n",
    "    count += 1"
   ]
  },
  {
   "cell_type": "code",
   "execution_count": 35,
   "metadata": {},
   "outputs": [
    {
     "name": "stdout",
     "output_type": "stream",
     "text": [
      "5\n",
      "farinha\n",
      "açúcar\n",
      "ovos\n",
      "castanhas\n",
      "chocolate\n"
     ]
    }
   ],
   "source": [
    "ingredientes = ['farinha', 'açúcar', 'ovos', 'castanhas', 'chocolate']\n",
    "tamanho = len(ingredientes)\n",
    "print(tamanho)\n",
    "indice = 0\n",
    "\n",
    "while indice < tamanho:\n",
    "    print(ingredientes[indice])\n",
    "    indice += 1"
   ]
  },
  {
   "cell_type": "code",
   "execution_count": 36,
   "metadata": {},
   "outputs": [
    {
     "name": "stdout",
     "output_type": "stream",
     "text": [
      "0\n",
      "1\n",
      "2\n",
      "3\n",
      "4\n"
     ]
    }
   ],
   "source": [
    "count = 0\n",
    "\n",
    "while count<=3:\n",
    "    print(count)\n",
    "    count +=1\n",
    "\n",
    "print(count)\n"
   ]
  },
  {
   "cell_type": "markdown",
   "metadata": {},
   "source": [
    "### Loop infinito"
   ]
  },
  {
   "cell_type": "code",
   "execution_count": null,
   "metadata": {},
   "outputs": [],
   "source": [
    "# my_favorite_numbers = [4, 8, 15, 16, 42]\n",
    " \n",
    "# for number in my_favorite_numbers:\n",
    "#   my_favorite_numbers.append(1)"
   ]
  },
  {
   "cell_type": "markdown",
   "metadata": {},
   "source": [
    "### Break"
   ]
  },
  {
   "cell_type": "code",
   "execution_count": 39,
   "metadata": {},
   "outputs": [
    {
     "name": "stdout",
     "output_type": "stream",
     "text": [
      "camiseta azul\n",
      "biquini rosa\n",
      "blusa de bolinha\n",
      "Encontramos!!!\n",
      "calça verde\n",
      "bolsa marrom\n"
     ]
    }
   ],
   "source": [
    "liquidacao = [\"camiseta azul\", \"biquini rosa\", \"blusa de bolinha\", \"calça verde\", \"bolsa marrom\"]\n",
    "\n",
    "for item in liquidacao:\n",
    "    print(item)\n",
    "    if item == \"blusa de bolinha\":\n",
    "        print(\"Encontramos!!!\")"
   ]
  },
  {
   "cell_type": "code",
   "execution_count": 41,
   "metadata": {},
   "outputs": [
    {
     "name": "stdout",
     "output_type": "stream",
     "text": [
      "Encontramos!!!\n"
     ]
    }
   ],
   "source": [
    "if \"blusa de bolinha\" in liquidacao:\n",
    "    print(\"Encontramos!!!\")"
   ]
  },
  {
   "cell_type": "code",
   "execution_count": 38,
   "metadata": {},
   "outputs": [
    {
     "name": "stdout",
     "output_type": "stream",
     "text": [
      "camiseta azul\n",
      "biquini rosa\n",
      "blusa de bolinha\n"
     ]
    }
   ],
   "source": [
    "for item in liquidacao:\n",
    "    print(item)\n",
    "    if item == \"blusa de bolinha\":\n",
    "        break"
   ]
  },
  {
   "cell_type": "markdown",
   "metadata": {},
   "source": [
    "### Continue"
   ]
  },
  {
   "cell_type": "code",
   "execution_count": 42,
   "metadata": {},
   "outputs": [
    {
     "name": "stdout",
     "output_type": "stream",
     "text": [
      "1\n",
      "2\n",
      "4\n",
      "5\n",
      "2\n"
     ]
    }
   ],
   "source": [
    "numeros = [1, 2, -1, 4, -5, 5, 2, -9]\n",
    "\n",
    "for i in numeros:\n",
    "    if i <= 0:\n",
    "        continue\n",
    "    print(i)"
   ]
  },
  {
   "cell_type": "code",
   "execution_count": 43,
   "metadata": {},
   "outputs": [
    {
     "name": "stdout",
     "output_type": "stream",
     "text": [
      "1\n",
      "2\n"
     ]
    }
   ],
   "source": [
    "numeros = [1, 2, -1, 4, -5, 5, 2, -9]\n",
    "\n",
    "for i in numeros:\n",
    "    if i <= 0:\n",
    "        break\n",
    "    print(i)"
   ]
  },
  {
   "cell_type": "code",
   "execution_count": 44,
   "metadata": {},
   "outputs": [],
   "source": [
    "def n123():\n",
    "    pass"
   ]
  },
  {
   "cell_type": "markdown",
   "metadata": {},
   "source": [
    "### Nested Loops"
   ]
  },
  {
   "cell_type": "code",
   "execution_count": 45,
   "metadata": {},
   "outputs": [
    {
     "name": "stdout",
     "output_type": "stream",
     "text": [
      "['Ana', 'Samanta', 'James']\n",
      "['Lucia', 'Roberto']\n",
      "['Edgar', 'Gabriel']\n"
     ]
    }
   ],
   "source": [
    "grupos = [[\"Ana\", \"Samanta\", \"James\"], [\"Lucia\", \"Roberto\"], [\"Edgar\", \"Gabriel\"]]\n",
    "\n",
    "for grupo in grupos:\n",
    "    print(grupo)"
   ]
  },
  {
   "cell_type": "code",
   "execution_count": 49,
   "metadata": {},
   "outputs": [
    {
     "name": "stdout",
     "output_type": "stream",
     "text": [
      "['Ana', 'Samanta', 'James']\n",
      "Ana\n",
      "Samanta\n",
      "James\n",
      "['Lucia', 'Roberto']\n",
      "Lucia\n",
      "Roberto\n",
      "['Edgar', 'Gabriel']\n",
      "Edgar\n",
      "Gabriel\n"
     ]
    }
   ],
   "source": [
    "for grupo in grupos:\n",
    "    print(grupo)\n",
    "    for estudante in grupo:\n",
    "        print(estudante)"
   ]
  },
  {
   "cell_type": "markdown",
   "metadata": {},
   "source": [
    "### List comprehensions"
   ]
  },
  {
   "cell_type": "code",
   "execution_count": 47,
   "metadata": {},
   "outputs": [
    {
     "name": "stdout",
     "output_type": "stream",
     "text": [
      "[4, 8, 42, -90, 180, 200]\n"
     ]
    }
   ],
   "source": [
    "numeros = [2, 4, 21, -45, 90, 100]\n",
    "dobro = []\n",
    "\n",
    "for numero in numeros:\n",
    "    dobro.append(numero * 2)\n",
    "    \n",
    "print(dobro)"
   ]
  },
  {
   "cell_type": "code",
   "execution_count": 48,
   "metadata": {},
   "outputs": [
    {
     "name": "stdout",
     "output_type": "stream",
     "text": [
      "[4, 8, 42, -90, 180, 200]\n"
     ]
    }
   ],
   "source": [
    "dobro = [numero *2 for numero in numeros]\n",
    "\n",
    "print(dobro)"
   ]
  },
  {
   "cell_type": "code",
   "execution_count": 50,
   "metadata": {},
   "outputs": [
    {
     "name": "stdout",
     "output_type": "stream",
     "text": [
      "[-6, -90]\n"
     ]
    }
   ],
   "source": [
    "numeros = [2, 4, -3, 21, -45, 90, 100]\n",
    "dobro_negativos = []\n",
    " \n",
    "for num in numeros:\n",
    "  if num < 0: \n",
    "    dobro_negativos.append(num * 2)\n",
    " \n",
    "print(dobro_negativos) "
   ]
  },
  {
   "cell_type": "code",
   "execution_count": 51,
   "metadata": {},
   "outputs": [
    {
     "name": "stdout",
     "output_type": "stream",
     "text": [
      "[-6, -90]\n"
     ]
    }
   ],
   "source": [
    "numeros = [2, 4, -3, 21, -45, 90, 100]\n",
    "dobro_negativos = [num * 2 for num in numeros if num < 0]\n",
    "print(dobro_negativos)"
   ]
  },
  {
   "cell_type": "code",
   "execution_count": 52,
   "metadata": {},
   "outputs": [
    {
     "name": "stdout",
     "output_type": "stream",
     "text": [
      "[6, 12, -6, 63, -90, 270, 300]\n"
     ]
    }
   ],
   "source": [
    "numeros = [2, 4, -3, 21, -45, 90, 100]\n",
    "numeos_2 = [num * 2 if num < 0 else num * 3 for num in numeros ]\n",
    "print(numeos_2)"
   ]
  },
  {
   "cell_type": "markdown",
   "metadata": {},
   "source": [
    "## Funções"
   ]
  },
  {
   "cell_type": "code",
   "execution_count": 53,
   "metadata": {},
   "outputs": [],
   "source": [
    "def instrucoes():\n",
    "    print(\"Coloque os ovos no recipiente, açucar e leite\")\n",
    "    print(\"misture com a farinha\")\n",
    "    print(\"coloque no forno\")"
   ]
  },
  {
   "cell_type": "code",
   "execution_count": 54,
   "metadata": {},
   "outputs": [
    {
     "name": "stdout",
     "output_type": "stream",
     "text": [
      "Coloque os ovos no recipiente, açucar e leite\n",
      "misture com a farinha\n",
      "coloque no forno\n"
     ]
    }
   ],
   "source": [
    "instrucoes()"
   ]
  },
  {
   "cell_type": "markdown",
   "metadata": {},
   "source": [
    "### Parametros"
   ]
  },
  {
   "cell_type": "code",
   "execution_count": 55,
   "metadata": {},
   "outputs": [],
   "source": [
    "def boas_vindas(destino):\n",
    "    print(\"Bem vindo!! Você está indo para: \" + destino.capitalize())\n",
    "    \n",
    "    "
   ]
  },
  {
   "cell_type": "code",
   "execution_count": 56,
   "metadata": {},
   "outputs": [
    {
     "name": "stdout",
     "output_type": "stream",
     "text": [
      "Bem vindo!! Você está indo para: Caribe\n"
     ]
    }
   ],
   "source": [
    "boas_vindas(\"caribe\")"
   ]
  },
  {
   "cell_type": "code",
   "execution_count": 57,
   "metadata": {},
   "outputs": [],
   "source": [
    "def voos_info(origem, escala, destino):\n",
    "    print(\"Olá, segue seu itinerário: \" + origem + \" - \" + escala + \" - \" + destino)"
   ]
  },
  {
   "cell_type": "code",
   "execution_count": 58,
   "metadata": {},
   "outputs": [
    {
     "name": "stdout",
     "output_type": "stream",
     "text": [
      "Olá, segue seu itinerário: São Paulo - Miami - Los Angeles\n"
     ]
    }
   ],
   "source": [
    "voos_info(\"São Paulo\", \"Miami\", \"Los Angeles\")"
   ]
  },
  {
   "cell_type": "code",
   "execution_count": 59,
   "metadata": {},
   "outputs": [],
   "source": [
    "def preco_da_corrida(km, valor, desconto=10):\n",
    "    print(km * valor - desconto)"
   ]
  },
  {
   "cell_type": "code",
   "execution_count": 60,
   "metadata": {},
   "outputs": [
    {
     "name": "stdout",
     "output_type": "stream",
     "text": [
      "5\n"
     ]
    }
   ],
   "source": [
    "preco_da_corrida(3, 5)"
   ]
  },
  {
   "cell_type": "code",
   "execution_count": 61,
   "metadata": {},
   "outputs": [
    {
     "name": "stdout",
     "output_type": "stream",
     "text": [
      "10\n"
     ]
    }
   ],
   "source": [
    "preco_da_corrida(3, 5, 5)"
   ]
  },
  {
   "cell_type": "markdown",
   "metadata": {},
   "source": [
    "### Return"
   ]
  },
  {
   "cell_type": "code",
   "execution_count": 62,
   "metadata": {},
   "outputs": [],
   "source": [
    "def conversao(reais, cotacao):\n",
    "    \"if...\"\n",
    "    return reais * cotacao\n"
   ]
  },
  {
   "cell_type": "code",
   "execution_count": 63,
   "metadata": {},
   "outputs": [],
   "source": [
    "real_dolar = conversao(4, 5.5)\n"
   ]
  },
  {
   "cell_type": "code",
   "execution_count": 65,
   "metadata": {},
   "outputs": [],
   "source": [
    "def conversao2(reais, cotacao):\n",
    "    reais * cotacao"
   ]
  },
  {
   "cell_type": "code",
   "execution_count": 67,
   "metadata": {},
   "outputs": [],
   "source": [
    "real_dolar2 = conversao2(4, 5.5)"
   ]
  },
  {
   "cell_type": "code",
   "execution_count": 68,
   "metadata": {},
   "outputs": [
    {
     "name": "stdout",
     "output_type": "stream",
     "text": [
      "None\n"
     ]
    }
   ],
   "source": [
    "print(real_dolar2)"
   ]
  },
  {
   "cell_type": "code",
   "execution_count": 64,
   "metadata": {},
   "outputs": [
    {
     "name": "stdout",
     "output_type": "stream",
     "text": [
      "22.0\n"
     ]
    }
   ],
   "source": [
    "print(real_dolar)"
   ]
  },
  {
   "cell_type": "markdown",
   "metadata": {},
   "source": [
    "# YOUR TURN!!!!!"
   ]
  },
  {
   "cell_type": "markdown",
   "metadata": {},
   "source": [
    "## Exercício 1 \n",
    "Escreva uma função que tenha como parâmetros o valor total da conta de um restaurante e a porcentagem da taxa de serviço com valor default igual a 10 (OBS: A porcentagem é representada por um número inteiro de 1 a 100). Esta função deve devolver o valor total da conta."
   ]
  },
  {
   "cell_type": "code",
   "execution_count": null,
   "metadata": {},
   "outputs": [],
   "source": [
    "def total_com_gorjeta(total, taxa):\n",
    "    return total + total *(taxa/100)"
   ]
  },
  {
   "cell_type": "code",
   "execution_count": null,
   "metadata": {},
   "outputs": [],
   "source": [
    "total_com_gorjeta(100, 10)"
   ]
  },
  {
   "cell_type": "markdown",
   "metadata": {},
   "source": [
    "## Módulos"
   ]
  },
  {
   "cell_type": "code",
   "execution_count": 69,
   "metadata": {
    "scrolled": false
   },
   "outputs": [
    {
     "name": "stdout",
     "output_type": "stream",
     "text": [
      "[33, 34, 86, 92, 63, 95, 41, 90, 64, 44, 44, 64, 97, 33, 3, 9, 30, 62, 15, 67, 13, 72, 46, 50, 46, 73, 87, 84, 85, 28, 51, 74, 69, 13, 2, 83, 71, 56, 99, 3, 91, 15, 20, 91, 7, 3, 94, 88, 8, 22, 95, 54, 61, 5, 70, 16, 78, 74, 91, 86, 9, 31, 78, 45, 78, 35, 41, 70, 10, 85, 97, 85, 82, 39, 21, 79, 18, 57, 16, 62, 45, 97, 78, 47, 42, 76, 63, 23, 10, 35, 45, 5, 6, 41, 14, 50, 89, 96, 63, 1, 23]\n"
     ]
    }
   ],
   "source": [
    "import random\n",
    "\n",
    "lista_aleatoria = []\n",
    "lista_aleatoria = [random.randint(1, 100) for n in range(101)]\n",
    "\n",
    "print(lista_aleatoria)"
   ]
  },
  {
   "cell_type": "code",
   "execution_count": 70,
   "metadata": {
    "scrolled": true
   },
   "outputs": [
    {
     "data": {
      "image/png": "[encoded data removed]",
      "text/plain": [
       "<Figure size 432x288 with 1 Axes>"
      ]
     },
     "metadata": {
      "needs_background": "light"
     },
     "output_type": "display_data"
    }
   ],
   "source": [
    "from matplotlib import pyplot as plt\n",
    "\n",
    "x = [1, 2, 3, 4, 5, 6]\n",
    "y = [1, 4, 9, 16, 25, 36]\n",
    "\n",
    "plt.plot(x, y)\n",
    "\n",
    "plt.show()"
   ]
  },
  {
   "cell_type": "code",
   "execution_count": 73,
   "metadata": {},
   "outputs": [
    {
     "name": "stdout",
     "output_type": "stream",
     "text": [
      "1\n",
      "2\n",
      "3\n",
      "4\n",
      "5\n",
      "7\n",
      "8\n",
      "9\n",
      "10\n"
     ]
    }
   ],
   "source": [
    "num = 0\n",
    "\n",
    "while num < 10:\n",
    "    num += 1\n",
    "    if num == 6:\n",
    "        continue\n",
    "    print(num)\n",
    "\n",
    "    \n"
   ]
  },
  {
   "cell_type": "markdown",
   "metadata": {},
   "source": [
    "## Exercício 2\n",
    "Escreva uma função que tem como parametro uma frase. Faça com que essa função retorne uma lista que contenha as palavras da frase."
   ]
  },
  {
   "cell_type": "code",
   "execution_count": null,
   "metadata": {},
   "outputs": [],
   "source": [
    "def minha_lista(frase):\n",
    "    return frase.split()\n",
    "        "
   ]
  },
  {
   "cell_type": "code",
   "execution_count": null,
   "metadata": {},
   "outputs": [],
   "source": [
    "print(minha_lista(\"oiii meu nome é Natasha\"))"
   ]
  },
  {
   "cell_type": "code",
   "execution_count": null,
   "metadata": {},
   "outputs": [],
   "source": []
  }
 ],
 "metadata": {
  "kernelspec": {
   "display_name": "Python 3",
   "language": "python",
   "name": "python3"
  },
  "language_info": {
   "codemirror_mode": {
    "name": "ipython",
    "version": 3
   },
   "file_extension": ".py",
   "mimetype": "text/x-python",
   "name": "python",
   "nbconvert_exporter": "python",
   "pygments_lexer": "ipython3",
   "version": "3.8.5"
  }
 },
 "nbformat": 4,
 "nbformat_minor": 4
}
