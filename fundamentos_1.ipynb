{
 "cells": [
  {
   "cell_type": "markdown",
   "metadata": {},
   "source": [
    "# Bootcamp pessoa deselvolvedora Python\n",
    "## Módulo 1 Fundamentos - Aula interativa 1- 07/Out/2021\n"
   ]
  },
  {
   "cell_type": "markdown",
   "metadata": {},
   "source": [
    "## Tour da aula\n",
    "* Intro\n",
    "* Tipos de dados\n",
    "* LISTS, tuples, sets e DICTIONARY"
   ]
  },
  {
   "cell_type": "markdown",
   "metadata": {},
   "source": [
    "## Comentários"
   ]
  },
  {
   "cell_type": "code",
   "execution_count": null,
   "metadata": {},
   "outputs": [],
   "source": [
    "# Essa varíável contabiliza o número de vezes que choveu essa semana\n",
    "chuva_semana = 3"
   ]
  },
  {
   "cell_type": "code",
   "execution_count": null,
   "metadata": {},
   "outputs": [],
   "source": [
    "'''\n",
    "    O poeta é um fingidor.\n",
    "    Finge tão completamente\n",
    "    Que chega a fingir que é dor\n",
    "    A dor que deveras sente.\n",
    "\n",
    "                    Fernando Pessoa\n",
    "'''"
   ]
  },
  {
   "cell_type": "code",
   "execution_count": null,
   "metadata": {},
   "outputs": [],
   "source": [
    "'''\n",
    "    jdnfjnvdjfnvgvbnvoi\n",
    "'''"
   ]
  },
  {
   "cell_type": "markdown",
   "metadata": {},
   "source": [
    "## print( )"
   ]
  },
  {
   "cell_type": "code",
   "execution_count": 1,
   "metadata": {},
   "outputs": [
    {
     "name": "stdout",
     "output_type": "stream",
     "text": [
      "Hello world!\n"
     ]
    }
   ],
   "source": [
    "print(\"Hello world!\")"
   ]
  },
  {
   "cell_type": "code",
   "execution_count": 2,
   "metadata": {},
   "outputs": [
    {
     "name": "stdout",
     "output_type": "stream",
     "text": [
      "1\n"
     ]
    }
   ],
   "source": [
    "print(1)"
   ]
  },
  {
   "cell_type": "markdown",
   "metadata": {},
   "source": [
    "## Strings"
   ]
  },
  {
   "cell_type": "code",
   "execution_count": 3,
   "metadata": {},
   "outputs": [
    {
     "name": "stdout",
     "output_type": "stream",
     "text": [
      "Olá, meu nome é Natasha\n",
      "O gato roeu a roupa do rei de Roma\n"
     ]
    }
   ],
   "source": [
    "print(\"Olá, meu nome é Natasha\")\n",
    "print(\"O gato roeu a roupa do rei de Roma\")"
   ]
  },
  {
   "cell_type": "markdown",
   "metadata": {},
   "source": [
    "### Variáveis\n",
    "* Variáveis armazenam dados para reutilização\n",
    "* não podem ter espaços ou símbolos além de underscore(_)\n",
    "* Não podem começar com números\n",
    "* variáveis são mutáveis e podemos alterar seus valores ao longo do código"
   ]
  },
  {
   "cell_type": "code",
   "execution_count": 4,
   "metadata": {},
   "outputs": [
    {
     "name": "stdout",
     "output_type": "stream",
     "text": [
      "Jonas\n",
      "algum lugar no planeta terra\n"
     ]
    }
   ],
   "source": [
    "nome = \"Jonas\"\n",
    "cidade = 'algum lugar no planeta terra'\n",
    "print(nome)\n",
    "print(cidade)"
   ]
  },
  {
   "cell_type": "code",
   "execution_count": 5,
   "metadata": {},
   "outputs": [
    {
     "name": "stdout",
     "output_type": "stream",
     "text": [
      "<class 'str'>\n"
     ]
    }
   ],
   "source": [
    "print(type(nome))"
   ]
  },
  {
   "cell_type": "code",
   "execution_count": 6,
   "metadata": {
    "scrolled": true
   },
   "outputs": [
    {
     "name": "stdout",
     "output_type": "stream",
     "text": [
      "olá\n",
      "bom dia!!\n"
     ]
    }
   ],
   "source": [
    "saudacao = \"olá\"\n",
    "print(saudacao)\n",
    "saudacao = \"bom dia!!\"\n",
    "print(saudacao)"
   ]
  },
  {
   "cell_type": "code",
   "execution_count": 8,
   "metadata": {},
   "outputs": [
    {
     "name": "stdout",
     "output_type": "stream",
     "text": [
      "boa noite!!!\n"
     ]
    }
   ],
   "source": [
    "saudacao = 'boa noite!!!'\n",
    "print(saudacao)"
   ]
  },
  {
   "cell_type": "code",
   "execution_count": 9,
   "metadata": {},
   "outputs": [
    {
     "name": "stdout",
     "output_type": "stream",
     "text": [
      "1\n"
     ]
    }
   ],
   "source": [
    "saudacao = 1\n",
    "print(saudacao)"
   ]
  },
  {
   "cell_type": "markdown",
   "metadata": {},
   "source": [
    "## Mais sobre strings"
   ]
  },
  {
   "cell_type": "code",
   "execution_count": 10,
   "metadata": {},
   "outputs": [
    {
     "name": "stdout",
     "output_type": "stream",
     "text": [
      "5\n"
     ]
    }
   ],
   "source": [
    "# len para strings\n",
    "nome = 'Maria'\n",
    "print(len(nome))"
   ]
  },
  {
   "cell_type": "code",
   "execution_count": 11,
   "metadata": {},
   "outputs": [
    {
     "name": "stdout",
     "output_type": "stream",
     "text": [
      "olá, bom dia!!\n"
     ]
    }
   ],
   "source": [
    "# string Concatenation\n",
    "saudacao_1 = \"olá\"\n",
    "saudacao_2 = \"bom dia!!\"\n",
    "print(saudacao_1 + \", \" + saudacao_2)"
   ]
  },
  {
   "cell_type": "code",
   "execution_count": 13,
   "metadata": {},
   "outputs": [
    {
     "name": "stdout",
     "output_type": "stream",
     "text": [
      "['welcome', 'to', 'the', 'jungle']\n"
     ]
    }
   ],
   "source": [
    "# Split\n",
    "txt = \"welcome to the jungle\"\n",
    "\n",
    "x = txt.split()\n",
    "\n",
    "print(x)\n"
   ]
  },
  {
   "cell_type": "code",
   "execution_count": 15,
   "metadata": {},
   "outputs": [
    {
     "name": "stdout",
     "output_type": "stream",
     "text": [
      "['banana', 'arroz', 'abobrinha', 'queijo']\n"
     ]
    }
   ],
   "source": [
    "lista_de_compras = \"banana, arroz, abobrinha, queijo\"\n",
    "\n",
    "x = lista_de_compras.split(', ')\n",
    "\n",
    "print(x)\n",
    "\n"
   ]
  },
  {
   "cell_type": "code",
   "execution_count": 16,
   "metadata": {},
   "outputs": [
    {
     "name": "stdout",
     "output_type": "stream",
     "text": [
      "Quiinta-feira\n"
     ]
    }
   ],
   "source": [
    "txt = \"     Quiinta-feira     \"\n",
    "\n",
    "x = txt.strip()\n",
    "\n",
    "print(x)\n"
   ]
  },
  {
   "cell_type": "code",
   "execution_count": 19,
   "metadata": {},
   "outputs": [
    {
     "name": "stdout",
     "output_type": "stream",
     "text": [
      "segund\n"
     ]
    }
   ],
   "source": [
    "txt = \",,,,,.....segunda....ccccccbbbbbbb.........\"\n",
    "\n",
    "x = txt.strip(',.cba')\n",
    "\n",
    "print(x)\n"
   ]
  },
  {
   "cell_type": "markdown",
   "metadata": {},
   "source": [
    "## Números: int e float\n",
    "* int: número inteiro, não possui ponto decimal. Contém todos os números contáveis\n",
    "* float: número decimal. "
   ]
  },
  {
   "cell_type": "code",
   "execution_count": 20,
   "metadata": {},
   "outputs": [
    {
     "name": "stdout",
     "output_type": "stream",
     "text": [
      "<class 'int'>\n",
      "2021\n",
      "<class 'float'>\n",
      "0.5\n"
     ]
    }
   ],
   "source": [
    "# int \n",
    "ano = 2021\n",
    "no_int = 25\n",
    "\n",
    "# float\n",
    "no_float = 2.35\n",
    "fracao = 0.5\n",
    "\n",
    "print(type(ano))\n",
    "print(ano)\n",
    "print(type(fracao))\n",
    "print(fracao)"
   ]
  },
  {
   "cell_type": "markdown",
   "metadata": {},
   "source": [
    "## Algumas operações matemáticas\n",
    "* soma: + \n",
    "* subtração: -\n",
    "* multiplicação: *\n",
    "* divisao: /"
   ]
  },
  {
   "cell_type": "code",
   "execution_count": 21,
   "metadata": {
    "scrolled": true
   },
   "outputs": [
    {
     "name": "stdout",
     "output_type": "stream",
     "text": [
      "500\n",
      "50\n",
      "2.0\n"
     ]
    }
   ],
   "source": [
    "# Imprime \"500\"\n",
    "print(573 - 74 + 1)\n",
    " \n",
    "# Imprime \"50\"\n",
    "print(25 * 2)\n",
    " \n",
    "# Imprime \"2.0\"\n",
    "print(10 / 5) # python sempre converte int para float quando faz divisões "
   ]
  },
  {
   "cell_type": "code",
   "execution_count": 24,
   "metadata": {},
   "outputs": [
    {
     "name": "stdout",
     "output_type": "stream",
     "text": [
      "100\n"
     ]
    }
   ],
   "source": [
    "print((48 + 2) * 2) # sera que resulta em 50???"
   ]
  },
  {
   "cell_type": "markdown",
   "metadata": {},
   "source": [
    "### somar de um jeito diferente"
   ]
  },
  {
   "cell_type": "code",
   "execution_count": 25,
   "metadata": {},
   "outputs": [
    {
     "name": "stdout",
     "output_type": "stream",
     "text": [
      "10\n",
      "12\n",
      "14\n"
     ]
    }
   ],
   "source": [
    "temperatura = 10 \n",
    "print(temperatura)\n",
    "temperatura += 2\n",
    "print(temperatura)\n",
    "temperatura += 2\n",
    "print(temperatura)"
   ]
  },
  {
   "cell_type": "markdown",
   "metadata": {},
   "source": [
    "## Booleans"
   ]
  },
  {
   "cell_type": "code",
   "execution_count": 26,
   "metadata": {},
   "outputs": [
    {
     "name": "stdout",
     "output_type": "stream",
     "text": [
      "<class 'bool'>\n",
      "True\n"
     ]
    }
   ],
   "source": [
    "var_1 = True\n",
    "\n",
    "print(type(var_1))\n",
    "print(var_1)"
   ]
  },
  {
   "cell_type": "code",
   "execution_count": 27,
   "metadata": {},
   "outputs": [
    {
     "name": "stdout",
     "output_type": "stream",
     "text": [
      "<class 'bool'>\n",
      "True\n",
      "<class 'bool'>\n",
      "False\n"
     ]
    }
   ],
   "source": [
    "var_2 = 'banana' == 'banana'\n",
    "print(type(var_2))\n",
    "print(var_2)\n",
    "\n",
    "var_3 = 'banana' == 'pera'\n",
    "print(type(var_3))\n",
    "print(var_3)"
   ]
  },
  {
   "cell_type": "code",
   "execution_count": 28,
   "metadata": {},
   "outputs": [
    {
     "name": "stdout",
     "output_type": "stream",
     "text": [
      "<class 'bool'>\n",
      "True\n",
      "<class 'bool'>\n",
      "False\n",
      "<class 'bool'>\n",
      "True\n"
     ]
    }
   ],
   "source": [
    "var_4 = 5 > 2\n",
    "print(type(var_4))\n",
    "print(var_4)\n",
    "\n",
    "var_5 = 21 < 9\n",
    "print(type(var_5))\n",
    "print(var_5)\n",
    "\n",
    "var_6 = 2 >= 2\n",
    "print(type(var_6))\n",
    "print(var_6)"
   ]
  },
  {
   "cell_type": "markdown",
   "metadata": {},
   "source": [
    "## Erros\n",
    "É importante entender e conhecer os diversos tipos de erros. Alguns erros comuns:\n",
    "* SyntaxError: Algo errado com a maneira que o programa está escrito. Ex: pontuação inexistente, comando em um lugar inesperado, parenteses faltando.\n",
    "* NameError: Python encontra uma palavra que não reconhece. Ex: variável que não foi definida\n",
    "* IndentationError: Python esperava um bloco indentado, porém o mesmo não foi encontrado"
   ]
  },
  {
   "cell_type": "code",
   "execution_count": 29,
   "metadata": {},
   "outputs": [
    {
     "ename": "SyntaxError",
     "evalue": "EOL while scanning string literal (<ipython-input-29-b48ee6dca4d9>, line 1)",
     "output_type": "error",
     "traceback": [
      "\u001b[1;36m  File \u001b[1;32m\"<ipython-input-29-b48ee6dca4d9>\"\u001b[1;36m, line \u001b[1;32m1\u001b[0m\n\u001b[1;33m    print(\"Essa frase não sera impressa)\u001b[0m\n\u001b[1;37m                                        ^\u001b[0m\n\u001b[1;31mSyntaxError\u001b[0m\u001b[1;31m:\u001b[0m EOL while scanning string literal\n"
     ]
    }
   ],
   "source": [
    "print(\"Essa frase não sera impressa)"
   ]
  },
  {
   "cell_type": "code",
   "execution_count": 30,
   "metadata": {},
   "outputs": [
    {
     "name": "stdout",
     "output_type": "stream",
     "text": [
      "Essa frase não sera impressa\n"
     ]
    }
   ],
   "source": [
    "print(\"Essa frase não sera impressa\")"
   ]
  },
  {
   "cell_type": "code",
   "execution_count": 32,
   "metadata": {},
   "outputs": [],
   "source": [
    "um_numero = 10"
   ]
  },
  {
   "cell_type": "code",
   "execution_count": 35,
   "metadata": {},
   "outputs": [
    {
     "name": "stdout",
     "output_type": "stream",
     "text": [
      "12\n"
     ]
    }
   ],
   "source": [
    "print(idade)"
   ]
  },
  {
   "cell_type": "code",
   "execution_count": 36,
   "metadata": {},
   "outputs": [
    {
     "ename": "NameError",
     "evalue": "name 'bbaa' is not defined",
     "output_type": "error",
     "traceback": [
      "\u001b[1;31m---------------------------------------------------------------------------\u001b[0m",
      "\u001b[1;31mNameError\u001b[0m                                 Traceback (most recent call last)",
      "\u001b[1;32m<ipython-input-36-6d2a114b171c>\u001b[0m in \u001b[0;36m<module>\u001b[1;34m\u001b[0m\n\u001b[1;32m----> 1\u001b[1;33m \u001b[0mprint\u001b[0m\u001b[1;33m(\u001b[0m\u001b[0mbbaa\u001b[0m\u001b[1;33m)\u001b[0m\u001b[1;33m\u001b[0m\u001b[1;33m\u001b[0m\u001b[0m\n\u001b[0m",
      "\u001b[1;31mNameError\u001b[0m: name 'bbaa' is not defined"
     ]
    }
   ],
   "source": [
    "print(bbaa)"
   ]
  },
  {
   "cell_type": "code",
   "execution_count": 37,
   "metadata": {},
   "outputs": [
    {
     "ename": "IndentationError",
     "evalue": "expected an indented block (<ipython-input-37-87a6e1d612ec>, line 2)",
     "output_type": "error",
     "traceback": [
      "\u001b[1;36m  File \u001b[1;32m\"<ipython-input-37-87a6e1d612ec>\"\u001b[1;36m, line \u001b[1;32m2\u001b[0m\n\u001b[1;33m    print(i)\u001b[0m\n\u001b[1;37m    ^\u001b[0m\n\u001b[1;31mIndentationError\u001b[0m\u001b[1;31m:\u001b[0m expected an indented block\n"
     ]
    }
   ],
   "source": [
    "for i in range(1, 10):\n",
    "print(i)"
   ]
  },
  {
   "cell_type": "markdown",
   "metadata": {},
   "source": [
    "## Identação\n",
    "Algumas linguagens como java se utilizam de {} para definir o bloco de um código, python utiliza identação!"
   ]
  },
  {
   "cell_type": "markdown",
   "metadata": {},
   "source": [
    "## Interagindo com o usuário: Função input( ) \n",
    "mas antes vamos trocar de IDE...."
   ]
  },
  {
   "cell_type": "markdown",
   "metadata": {},
   "source": [
    "## Lists\n",
    "* Uma das varias estruturas do python que nos permite trabalhar com coleções de dados\n",
    "* É feita com [ ]\n",
    "* Pode conter os mais variados tipos de dados"
   ]
  },
  {
   "cell_type": "code",
   "execution_count": 38,
   "metadata": {},
   "outputs": [
    {
     "name": "stdout",
     "output_type": "stream",
     "text": [
      "['Ana', 'Carlos', 'Maria']\n",
      "[23, 40, 65]\n",
      "['Aninha', 27, True, 2.5]\n"
     ]
    }
   ],
   "source": [
    "nomes = ['Ana', 'Carlos', 'Maria']\n",
    "idades = [23, 40, 65]\n",
    "lista_mista = ['Aninha', 27, True, 2.5]\n",
    "\n",
    "print(nomes)\n",
    "print(idades)\n",
    "print(lista_mista)"
   ]
  },
  {
   "cell_type": "markdown",
   "metadata": {},
   "source": [
    "### Listas vazias (empty lists)"
   ]
  },
  {
   "cell_type": "code",
   "execution_count": 39,
   "metadata": {},
   "outputs": [],
   "source": [
    "minha_lista_vazia = []"
   ]
  },
  {
   "cell_type": "markdown",
   "metadata": {},
   "source": [
    "## Métodos\n",
    "minha_lista_vazia.metodo()"
   ]
  },
  {
   "cell_type": "markdown",
   "metadata": {},
   "source": [
    "### append( )"
   ]
  },
  {
   "cell_type": "code",
   "execution_count": 40,
   "metadata": {},
   "outputs": [
    {
     "name": "stdout",
     "output_type": "stream",
     "text": [
      "[1]\n"
     ]
    }
   ],
   "source": [
    "minha_lista_vazia.append(1)\n",
    "\n",
    "print(minha_lista_vazia)"
   ]
  },
  {
   "cell_type": "code",
   "execution_count": 41,
   "metadata": {},
   "outputs": [
    {
     "ename": "TypeError",
     "evalue": "append() takes exactly one argument (4 given)",
     "output_type": "error",
     "traceback": [
      "\u001b[1;31m---------------------------------------------------------------------------\u001b[0m",
      "\u001b[1;31mTypeError\u001b[0m                                 Traceback (most recent call last)",
      "\u001b[1;32m<ipython-input-41-277aa3e41077>\u001b[0m in \u001b[0;36m<module>\u001b[1;34m\u001b[0m\n\u001b[1;32m----> 1\u001b[1;33m \u001b[0mminha_lista_vazia\u001b[0m\u001b[1;33m.\u001b[0m\u001b[0mappend\u001b[0m\u001b[1;33m(\u001b[0m\u001b[1;36m2\u001b[0m\u001b[1;33m,\u001b[0m \u001b[1;36m3\u001b[0m\u001b[1;33m,\u001b[0m \u001b[1;36m4\u001b[0m\u001b[1;33m,\u001b[0m \u001b[1;36m5\u001b[0m\u001b[1;33m)\u001b[0m\u001b[1;33m\u001b[0m\u001b[1;33m\u001b[0m\u001b[0m\n\u001b[0m",
      "\u001b[1;31mTypeError\u001b[0m: append() takes exactly one argument (4 given)"
     ]
    }
   ],
   "source": [
    "minha_lista_vazia.append(2, 3, 4, 5)"
   ]
  },
  {
   "cell_type": "markdown",
   "metadata": {},
   "source": [
    "### Aumentando listas com +"
   ]
  },
  {
   "cell_type": "code",
   "execution_count": 43,
   "metadata": {},
   "outputs": [],
   "source": [
    "to_do_list = [\"estudar python\", \"debugar o codigo\", \"codar o app\"]"
   ]
  },
  {
   "cell_type": "code",
   "execution_count": 45,
   "metadata": {},
   "outputs": [
    {
     "name": "stdout",
     "output_type": "stream",
     "text": [
      "['estudar python', 'debugar o codigo', 'codar o app', 'a, b, c', 'a, b, c', 'd']\n"
     ]
    }
   ],
   "source": [
    "to_do_list = to_do_list +['a, b, c', 'd']\n",
    "\n",
    "print(to_do_list)"
   ]
  },
  {
   "cell_type": "markdown",
   "metadata": {},
   "source": [
    "### Acessando elementos de uma lista pelo index"
   ]
  },
  {
   "cell_type": "code",
   "execution_count": 63,
   "metadata": {},
   "outputs": [],
   "source": [
    "ligar_para = [\"Monique\", \"Mario\", \"Mainara\", \"Bia\", \"Lucs\", \"Diego\"]"
   ]
  },
  {
   "cell_type": "code",
   "execution_count": 50,
   "metadata": {},
   "outputs": [
    {
     "name": "stdout",
     "output_type": "stream",
     "text": [
      "Monique\n",
      "Diego\n"
     ]
    }
   ],
   "source": [
    "\n",
    "print(ligar_para[0])\n",
    "\n",
    "print(ligar_para[-1])"
   ]
  },
  {
   "cell_type": "code",
   "execution_count": null,
   "metadata": {},
   "outputs": [],
   "source": []
  },
  {
   "cell_type": "markdown",
   "metadata": {},
   "source": [
    "### Modificando elementos de uma lista"
   ]
  },
  {
   "cell_type": "code",
   "execution_count": 51,
   "metadata": {},
   "outputs": [],
   "source": [
    "ligar_para[0] = \"Rita\""
   ]
  },
  {
   "cell_type": "code",
   "execution_count": 62,
   "metadata": {},
   "outputs": [
    {
     "name": "stdout",
     "output_type": "stream",
     "text": [
      "['Rita', 'Bia', 'Lucs', 'Diego', [1, 2], [1, 2]]\n"
     ]
    }
   ],
   "source": [
    "print(ligar_para)"
   ]
  },
  {
   "cell_type": "markdown",
   "metadata": {},
   "source": [
    "### Removendo elementos .remove( )"
   ]
  },
  {
   "cell_type": "code",
   "execution_count": 53,
   "metadata": {},
   "outputs": [],
   "source": [
    "ligar_para.remove(\"Mario\")"
   ]
  },
  {
   "cell_type": "code",
   "execution_count": 54,
   "metadata": {},
   "outputs": [
    {
     "name": "stdout",
     "output_type": "stream",
     "text": [
      "['Rita', 'Mainara', 'Bia', 'Lucs', 'Diego']\n"
     ]
    }
   ],
   "source": [
    "print(ligar_para)"
   ]
  },
  {
   "cell_type": "markdown",
   "metadata": {},
   "source": [
    "### Removendo e armazenando como uma variável .pop( )"
   ]
  },
  {
   "cell_type": "code",
   "execution_count": 55,
   "metadata": {},
   "outputs": [
    {
     "name": "stdout",
     "output_type": "stream",
     "text": [
      "['Rita', 'Bia', 'Lucs', 'Diego']\n",
      "Mainara\n"
     ]
    }
   ],
   "source": [
    "var_4 = ligar_para.pop(1)\n",
    "print(ligar_para)\n",
    "print(var_4)\n"
   ]
  },
  {
   "cell_type": "code",
   "execution_count": 57,
   "metadata": {},
   "outputs": [
    {
     "name": "stdout",
     "output_type": "stream",
     "text": [
      "['Rita', 'Bia', 'Lucs', 'Diego', [1, 2], [1, 2]]\n"
     ]
    }
   ],
   "source": [
    "ligar_para.append([1, 2])\n",
    "print(ligar_para)"
   ]
  },
  {
   "cell_type": "code",
   "execution_count": null,
   "metadata": {},
   "outputs": [],
   "source": []
  },
  {
   "cell_type": "markdown",
   "metadata": {},
   "source": [
    "## Listas 2D "
   ]
  },
  {
   "cell_type": "code",
   "execution_count": 59,
   "metadata": {},
   "outputs": [],
   "source": [
    "alturas = [[\"Jennifer\", 1.61], [\"Alexandre\", 1.80], [\"Samuel\", 1.67], [\"Joana\", 1.72]]\n"
   ]
  },
  {
   "cell_type": "code",
   "execution_count": 60,
   "metadata": {},
   "outputs": [
    {
     "name": "stdout",
     "output_type": "stream",
     "text": [
      "1.61\n"
     ]
    }
   ],
   "source": [
    "print(alturas[0][1])"
   ]
  },
  {
   "cell_type": "code",
   "execution_count": 61,
   "metadata": {},
   "outputs": [
    {
     "name": "stdout",
     "output_type": "stream",
     "text": [
      "Samuel\n"
     ]
    }
   ],
   "source": [
    "print(alturas[2][0])"
   ]
  },
  {
   "cell_type": "code",
   "execution_count": null,
   "metadata": {},
   "outputs": [],
   "source": []
  },
  {
   "cell_type": "markdown",
   "metadata": {},
   "source": [
    "## len( )"
   ]
  },
  {
   "cell_type": "code",
   "execution_count": 64,
   "metadata": {},
   "outputs": [
    {
     "name": "stdout",
     "output_type": "stream",
     "text": [
      "6\n"
     ]
    }
   ],
   "source": [
    "print(len(ligar_para))"
   ]
  },
  {
   "cell_type": "markdown",
   "metadata": {},
   "source": [
    "## Slicing\n",
    "lista[começo:fim]\n",
    "* começo: Índice do primeiro elemento a ser incluído na seleção.\n",
    "* fim: Índice do último elemento a ser incluído na seleção somado um, pois é exclusivo"
   ]
  },
  {
   "cell_type": "code",
   "execution_count": 66,
   "metadata": {},
   "outputs": [],
   "source": [
    "letras = [\"a\", \"b\", \"c\", \"d\", \"e\", \"f\", \"g\"]"
   ]
  },
  {
   "cell_type": "code",
   "execution_count": 67,
   "metadata": {},
   "outputs": [
    {
     "name": "stdout",
     "output_type": "stream",
     "text": [
      "['a', 'b', 'c']\n"
     ]
    }
   ],
   "source": [
    "print(letras[0:3])"
   ]
  },
  {
   "cell_type": "code",
   "execution_count": 68,
   "metadata": {},
   "outputs": [
    {
     "name": "stdout",
     "output_type": "stream",
     "text": [
      "['a', 'b', 'c']\n"
     ]
    }
   ],
   "source": [
    "print(letras[:3])"
   ]
  },
  {
   "cell_type": "code",
   "execution_count": null,
   "metadata": {},
   "outputs": [],
   "source": []
  },
  {
   "cell_type": "markdown",
   "metadata": {},
   "source": [
    "## .count( )"
   ]
  },
  {
   "cell_type": "code",
   "execution_count": 69,
   "metadata": {},
   "outputs": [],
   "source": [
    "letras = [\"m\", \"i\", \"s\", \"s\", \"i\", \"s\", \"s\", \"i\", \"p\", \"p\", \"i\"]"
   ]
  },
  {
   "cell_type": "code",
   "execution_count": 70,
   "metadata": {},
   "outputs": [
    {
     "name": "stdout",
     "output_type": "stream",
     "text": [
      "4\n"
     ]
    }
   ],
   "source": [
    "print(letras.count('s'))"
   ]
  },
  {
   "cell_type": "code",
   "execution_count": 71,
   "metadata": {},
   "outputs": [
    {
     "name": "stdout",
     "output_type": "stream",
     "text": [
      "2\n"
     ]
    }
   ],
   "source": [
    "print(letras.count('p'))"
   ]
  },
  {
   "cell_type": "markdown",
   "metadata": {},
   "source": [
    "## Tuples( )\n",
    "* Permite armazernar tipos de dados variados\n",
    "* muito similar à listas, mas é imutável\n"
   ]
  },
  {
   "cell_type": "code",
   "execution_count": 72,
   "metadata": {},
   "outputs": [],
   "source": [
    "tupl_1 = ('Natasha', 30, 'cientista de dados')"
   ]
  },
  {
   "cell_type": "markdown",
   "metadata": {},
   "source": [
    "### Unpacking - podemos armazenar os dados de um tuple em variáveis"
   ]
  },
  {
   "cell_type": "code",
   "execution_count": 74,
   "metadata": {},
   "outputs": [],
   "source": [
    "nome, idade, ocupacao = tupl_1"
   ]
  },
  {
   "cell_type": "code",
   "execution_count": 76,
   "metadata": {},
   "outputs": [
    {
     "name": "stdout",
     "output_type": "stream",
     "text": [
      "Natasha\n",
      "30\n",
      "cientista de dados\n"
     ]
    }
   ],
   "source": [
    "print(nome)\n",
    "print(idade)\n",
    "print(ocupacao)"
   ]
  },
  {
   "cell_type": "markdown",
   "metadata": {},
   "source": [
    "## Sets\n",
    "* Conjunto de valores únicos\n",
    "* Contem valores de tipos imutáveis\n",
    "* Não é indexado, logo não podemos acessar objetos pelo índice"
   ]
  },
  {
   "cell_type": "code",
   "execution_count": 77,
   "metadata": {},
   "outputs": [
    {
     "name": "stdout",
     "output_type": "stream",
     "text": [
      "{'beta', 'gama', 'alpha'}\n"
     ]
    }
   ],
   "source": [
    "a_set = {'alpha', 'gama', 'beta'}             \n",
    "print (a_set)"
   ]
  },
  {
   "cell_type": "markdown",
   "metadata": {},
   "source": [
    "### Adicionando e removendo itens\n",
    "Quando um set é criado não podemos mudar os itens, mas podemos adicionar ou remover itens com .add( ) e .remove( )"
   ]
  },
  {
   "cell_type": "code",
   "execution_count": 80,
   "metadata": {},
   "outputs": [
    {
     "name": "stdout",
     "output_type": "stream",
     "text": [
      "{'na', 'beta', 'gama', 'alpha'}\n"
     ]
    }
   ],
   "source": [
    "a_set.add(\"na\")\n",
    "print(a_set)"
   ]
  },
  {
   "cell_type": "markdown",
   "metadata": {},
   "source": [
    "## Dictionary\n",
    "* pares key:value\n",
    "* mutável\n"
   ]
  },
  {
   "cell_type": "code",
   "execution_count": null,
   "metadata": {},
   "outputs": [],
   "source": [
    "menu = {\"macarrão a bolonhesa\": 6, \"suco de laranja\": 5, \"muffin\": 2}"
   ]
  },
  {
   "cell_type": "code",
   "execution_count": null,
   "metadata": {},
   "outputs": [],
   "source": [
    "traducao = {\"montanha\": \"mountain\", \"pão\": \"bread\", \"pássaro\": \"bird\"}"
   ]
  },
  {
   "cell_type": "markdown",
   "metadata": {},
   "source": [
    "### Listas e dicionários"
   ]
  },
  {
   "cell_type": "code",
   "execution_count": 81,
   "metadata": {},
   "outputs": [],
   "source": [
    "menu = {\"macarrão a bolonhesa\": 1, \"suco de laranja\": 5, \"muffin\": 2}"
   ]
  },
  {
   "cell_type": "code",
   "execution_count": 82,
   "metadata": {},
   "outputs": [
    {
     "name": "stdout",
     "output_type": "stream",
     "text": [
      "{'macarrão a bolonhesa': [1, 2, 3], 'suco de laranja': 5, 'muffin': 2}\n"
     ]
    }
   ],
   "source": [
    "print(menu)"
   ]
  },
  {
   "cell_type": "markdown",
   "metadata": {},
   "source": [
    "### Adicionando pares key:value"
   ]
  },
  {
   "cell_type": "code",
   "execution_count": 84,
   "metadata": {},
   "outputs": [],
   "source": [
    "pedidos = {}"
   ]
  },
  {
   "cell_type": "code",
   "execution_count": 85,
   "metadata": {},
   "outputs": [],
   "source": [
    "pedidos['frango'] = 3"
   ]
  },
  {
   "cell_type": "code",
   "execution_count": 86,
   "metadata": {},
   "outputs": [
    {
     "name": "stdout",
     "output_type": "stream",
     "text": [
      "{'frango': 3}\n"
     ]
    }
   ],
   "source": [
    "print(pedidos)"
   ]
  },
  {
   "cell_type": "markdown",
   "metadata": {},
   "source": [
    "### Acessando valores com a chave"
   ]
  },
  {
   "cell_type": "code",
   "execution_count": 87,
   "metadata": {},
   "outputs": [],
   "source": [
    "menu = {\"macarrão a bolonhesa\": 1, \"suco de laranja\": 5, \"muffin\": 2}"
   ]
  },
  {
   "cell_type": "code",
   "execution_count": 88,
   "metadata": {},
   "outputs": [
    {
     "name": "stdout",
     "output_type": "stream",
     "text": [
      "5\n"
     ]
    }
   ],
   "source": [
    "print(menu[\"suco de laranja\"])"
   ]
  },
  {
   "cell_type": "markdown",
   "metadata": {},
   "source": [
    "### Acessando valores com .get(key)"
   ]
  },
  {
   "cell_type": "code",
   "execution_count": 89,
   "metadata": {},
   "outputs": [
    {
     "name": "stdout",
     "output_type": "stream",
     "text": [
      "5\n"
     ]
    }
   ],
   "source": [
    "print(menu.get(\"suco de laranja\"))"
   ]
  },
  {
   "cell_type": "markdown",
   "metadata": {},
   "source": [
    "### Acessando chaves com.keys()"
   ]
  },
  {
   "cell_type": "code",
   "execution_count": 91,
   "metadata": {},
   "outputs": [
    {
     "name": "stdout",
     "output_type": "stream",
     "text": [
      "dict_keys(['macarrão a bolonhesa', 'suco de laranja', 'muffin'])\n"
     ]
    }
   ],
   "source": [
    "print(menu.keys())"
   ]
  },
  {
   "cell_type": "markdown",
   "metadata": {},
   "source": [
    "### .items()"
   ]
  },
  {
   "cell_type": "code",
   "execution_count": 92,
   "metadata": {},
   "outputs": [
    {
     "name": "stdout",
     "output_type": "stream",
     "text": [
      "dict_items([('macarrão a bolonhesa', 1), ('suco de laranja', 5), ('muffin', 2)])\n"
     ]
    }
   ],
   "source": [
    "print(menu.items())"
   ]
  },
  {
   "cell_type": "markdown",
   "metadata": {},
   "source": [
    "## Voltando às listas....zip( )"
   ]
  },
  {
   "cell_type": "code",
   "execution_count": 96,
   "metadata": {},
   "outputs": [],
   "source": [
    "nomes = ['Bruna', 'Renan', 'Julia']\n",
    "alturas = [1.70, 1.75, 1.55, 1.90]"
   ]
  },
  {
   "cell_type": "code",
   "execution_count": 97,
   "metadata": {},
   "outputs": [
    {
     "name": "stdout",
     "output_type": "stream",
     "text": [
      "<zip object at 0x00000226ADC81780>\n"
     ]
    }
   ],
   "source": [
    "nomes_e_alturas = zip(nomes, alturas)\n",
    "print(nomes_e_alturas)"
   ]
  },
  {
   "cell_type": "code",
   "execution_count": 98,
   "metadata": {},
   "outputs": [
    {
     "name": "stdout",
     "output_type": "stream",
     "text": [
      "[('Bruna', 1.7), ('Renan', 1.75), ('Julia', 1.55)]\n"
     ]
    }
   ],
   "source": [
    "lista = list(nomes_e_alturas)\n",
    "print(lista)"
   ]
  },
  {
   "cell_type": "code",
   "execution_count": null,
   "metadata": {},
   "outputs": [],
   "source": []
  }
 ],
 "metadata": {
  "kernelspec": {
   "display_name": "Python 3",
   "language": "python",
   "name": "python3"
  },
  "language_info": {
   "codemirror_mode": {
    "name": "ipython",
    "version": 3
   },
   "file_extension": ".py",
   "mimetype": "text/x-python",
   "name": "python",
   "nbconvert_exporter": "python",
   "pygments_lexer": "ipython3",
   "version": "3.8.5"
  }
 },
 "nbformat": 4,
 "nbformat_minor": 4
}
